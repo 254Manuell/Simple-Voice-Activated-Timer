{
  "nbformat": 4,
  "nbformat_minor": 0,
  "metadata": {
    "colab": {
      "provenance": []
    },
    "kernelspec": {
      "name": "python3",
      "display_name": "Python 3"
    },
    "language_info": {
      "name": "python"
    }
  },
  "cells": [
    {
      "cell_type": "code",
      "execution_count": 1,
      "metadata": {
        "colab": {
          "base_uri": "https://localhost:8080/"
        },
        "id": "cjv9o-T0iW61",
        "outputId": "1bb959a9-e182-443b-94b8-3c548b2f6833"
      },
      "outputs": [
        {
          "output_type": "stream",
          "name": "stdout",
          "text": [
            "E: Package 'libfluidsynth1' has no installation candidate\n"
          ]
        }
      ],
      "source": [
        "!apt-get -qq install -y libfluidsynth1"
      ]
    },
    {
      "cell_type": "code",
      "source": [
        "!pip install cartopy"
      ],
      "metadata": {
        "colab": {
          "base_uri": "https://localhost:8080/"
        },
        "id": "qL6WwtrFjDS2",
        "outputId": "e14e19f2-954e-4e6e-ba59-7b5be0395af2"
      },
      "execution_count": 2,
      "outputs": [
        {
          "output_type": "stream",
          "name": "stdout",
          "text": [
            "Requirement already satisfied: cartopy in /usr/local/lib/python3.10/dist-packages (0.24.1)\n",
            "Requirement already satisfied: numpy>=1.23 in /usr/local/lib/python3.10/dist-packages (from cartopy) (1.26.4)\n",
            "Requirement already satisfied: matplotlib>=3.6 in /usr/local/lib/python3.10/dist-packages (from cartopy) (3.8.0)\n",
            "Requirement already satisfied: shapely>=1.8 in /usr/local/lib/python3.10/dist-packages (from cartopy) (2.0.6)\n",
            "Requirement already satisfied: packaging>=21 in /usr/local/lib/python3.10/dist-packages (from cartopy) (24.2)\n",
            "Requirement already satisfied: pyshp>=2.3 in /usr/local/lib/python3.10/dist-packages (from cartopy) (2.3.1)\n",
            "Requirement already satisfied: pyproj>=3.3.1 in /usr/local/lib/python3.10/dist-packages (from cartopy) (3.7.0)\n",
            "Requirement already satisfied: contourpy>=1.0.1 in /usr/local/lib/python3.10/dist-packages (from matplotlib>=3.6->cartopy) (1.3.1)\n",
            "Requirement already satisfied: cycler>=0.10 in /usr/local/lib/python3.10/dist-packages (from matplotlib>=3.6->cartopy) (0.12.1)\n",
            "Requirement already satisfied: fonttools>=4.22.0 in /usr/local/lib/python3.10/dist-packages (from matplotlib>=3.6->cartopy) (4.55.3)\n",
            "Requirement already satisfied: kiwisolver>=1.0.1 in /usr/local/lib/python3.10/dist-packages (from matplotlib>=3.6->cartopy) (1.4.7)\n",
            "Requirement already satisfied: pillow>=6.2.0 in /usr/local/lib/python3.10/dist-packages (from matplotlib>=3.6->cartopy) (11.0.0)\n",
            "Requirement already satisfied: pyparsing>=2.3.1 in /usr/local/lib/python3.10/dist-packages (from matplotlib>=3.6->cartopy) (3.2.0)\n",
            "Requirement already satisfied: python-dateutil>=2.7 in /usr/local/lib/python3.10/dist-packages (from matplotlib>=3.6->cartopy) (2.8.2)\n",
            "Requirement already satisfied: certifi in /usr/local/lib/python3.10/dist-packages (from pyproj>=3.3.1->cartopy) (2024.12.14)\n",
            "Requirement already satisfied: six>=1.5 in /usr/local/lib/python3.10/dist-packages (from python-dateutil>=2.7->matplotlib>=3.6->cartopy) (1.17.0)\n"
          ]
        }
      ]
    },
    {
      "cell_type": "code",
      "source": [
        "!pip install gTTS"
      ],
      "metadata": {
        "colab": {
          "base_uri": "https://localhost:8080/"
        },
        "id": "lmhe6BxqjHm5",
        "outputId": "c0f70707-2fe6-4450-8325-9709b33392f3"
      },
      "execution_count": 3,
      "outputs": [
        {
          "output_type": "stream",
          "name": "stdout",
          "text": [
            "Requirement already satisfied: gTTS in /usr/local/lib/python3.10/dist-packages (2.5.4)\n",
            "Requirement already satisfied: requests<3,>=2.27 in /usr/local/lib/python3.10/dist-packages (from gTTS) (2.32.3)\n",
            "Requirement already satisfied: click<8.2,>=7.1 in /usr/local/lib/python3.10/dist-packages (from gTTS) (8.1.7)\n",
            "Requirement already satisfied: charset-normalizer<4,>=2 in /usr/local/lib/python3.10/dist-packages (from requests<3,>=2.27->gTTS) (3.4.0)\n",
            "Requirement already satisfied: idna<4,>=2.5 in /usr/local/lib/python3.10/dist-packages (from requests<3,>=2.27->gTTS) (3.10)\n",
            "Requirement already satisfied: urllib3<3,>=1.21.1 in /usr/local/lib/python3.10/dist-packages (from requests<3,>=2.27->gTTS) (2.2.3)\n",
            "Requirement already satisfied: certifi>=2017.4.17 in /usr/local/lib/python3.10/dist-packages (from requests<3,>=2.27->gTTS) (2024.12.14)\n"
          ]
        }
      ]
    },
    {
      "cell_type": "code",
      "source": [
        "!pip install sounddevice"
      ],
      "metadata": {
        "colab": {
          "base_uri": "https://localhost:8080/"
        },
        "id": "g6kI8YMKjNzf",
        "outputId": "13fdc403-65e3-422c-a728-c9cb46a758d7"
      },
      "execution_count": 4,
      "outputs": [
        {
          "output_type": "stream",
          "name": "stdout",
          "text": [
            "Requirement already satisfied: sounddevice in /usr/local/lib/python3.10/dist-packages (0.5.1)\n",
            "Requirement already satisfied: CFFI>=1.0 in /usr/local/lib/python3.10/dist-packages (from sounddevice) (1.17.1)\n",
            "Requirement already satisfied: pycparser in /usr/local/lib/python3.10/dist-packages (from CFFI>=1.0->sounddevice) (2.22)\n"
          ]
        }
      ]
    },
    {
      "cell_type": "code",
      "source": [
        "!pip install SpeechRecognition sounddevice\n",
        "!apt-get install python3-pyaudio"
      ],
      "metadata": {
        "colab": {
          "base_uri": "https://localhost:8080/"
        },
        "id": "IeL7gR6CjoEL",
        "outputId": "0a373303-204e-4763-97b1-0fcf43b18d60"
      },
      "execution_count": 5,
      "outputs": [
        {
          "output_type": "stream",
          "name": "stdout",
          "text": [
            "Requirement already satisfied: SpeechRecognition in /usr/local/lib/python3.10/dist-packages (3.12.0)\n",
            "Requirement already satisfied: sounddevice in /usr/local/lib/python3.10/dist-packages (0.5.1)\n",
            "Requirement already satisfied: typing-extensions in /usr/local/lib/python3.10/dist-packages (from SpeechRecognition) (4.12.2)\n",
            "Requirement already satisfied: CFFI>=1.0 in /usr/local/lib/python3.10/dist-packages (from sounddevice) (1.17.1)\n",
            "Requirement already satisfied: pycparser in /usr/local/lib/python3.10/dist-packages (from CFFI>=1.0->sounddevice) (2.22)\n",
            "Reading package lists... Done\n",
            "Building dependency tree... Done\n",
            "Reading state information... Done\n",
            "python3-pyaudio is already the newest version (0.2.11-1.3ubuntu1).\n",
            "0 upgraded, 0 newly installed, 0 to remove and 50 not upgraded.\n"
          ]
        }
      ]
    },
    {
      "cell_type": "code",
      "source": [
        "import time\n",
        "from IPython.display import clear_output, display\n",
        "import ipywidgets as widgets\n",
        "import speech_recognition as sr\n",
        "import threading\n",
        "import re\n",
        "from google.colab import output\n",
        "import numpy as np\n",
        "import sounddevice as sd"
      ],
      "metadata": {
        "id": "NHgfFeqxijlg"
      },
      "execution_count": 6,
      "outputs": []
    },
    {
      "cell_type": "code",
      "source": [
        "class ManuelTimer:\n",
        "    def __init__(self):\n",
        "        self.running = False\n",
        "        self.start_time = 0\n",
        "        self.recognizer = sr.Recognizer()\n",
        "        self.is_listening = False\n",
        "\n",
        "    def listen_for_commands(self):\n",
        "        \"\"\"Continuously listen for voice commands\"\"\"\n",
        "        self.is_listening = True\n",
        "        print(\"Ready when you ready! VIVAA:\")\n",
        "        print(\"- 'start timer X minutes' or 'start timer X seconds'\")\n",
        "        print(\"- 'start stopwatch'\")\n",
        "        print(\"- 'stop'\")\n",
        "\n",
        "        while self.is_listening:\n",
        "            try:\n",
        "                with sr.Microphone() as source:\n",
        "                    self.recognizer.adjust_for_ambient_noise(source, duration=0.5)\n",
        "                    audio = self.recognizer.listen(source)\n",
        "                    text = self.recognizer.recognize_google(audio).lower()\n",
        "                    print(f\"Heard: {text}\")\n",
        "\n",
        "                    # Parse commands\n",
        "                    if \"start timer\" in text:\n",
        "                        # Extract time values\n",
        "                        minutes = 0\n",
        "                        seconds = 0\n",
        "                        time_values = re.findall(r'(\\d+)\\s*(minute|second)', text)\n",
        "                        for value, unit in time_values:\n",
        "                            if 'minute' in unit:\n",
        "                                minutes = int(value)\n",
        "                            elif 'second' in unit:\n",
        "                                seconds = int(value)\n",
        "                        if minutes > 0 or seconds > 0:\n",
        "                            threading.Thread(target=self.countdown, args=(minutes, seconds)).start()\n",
        "\n",
        "                    elif \"start stopwatch\" in text:\n",
        "                        threading.Thread(target=self.stopwatch).start()\n",
        "\n",
        "                    elif \"stop\" in text:\n",
        "                        self.running = False\n",
        "                        print(\"Timer stopped!\")\n",
        "\n",
        "            except sr.UnknownValueError:\n",
        "                pass\n",
        "            except sr.RequestError:\n",
        "                print(\"Sorry, there was an error with the speech recognition service\")\n",
        "\n",
        "    def countdown(self, minutes, seconds):\n",
        "        \"\"\"Countdown timer function\"\"\"\n",
        "        self.running = True\n",
        "        total_seconds = minutes * 60 + seconds\n",
        "\n",
        "        while total_seconds > 0 and self.running:\n",
        "            clear_output(wait=True)\n",
        "            m, s = divmod(total_seconds, 60)\n",
        "            print(\"Voice commands active! Say 'stop' to end timer\")\n",
        "            print(f'Time remaining: {int(m):02d}:{int(s):02d}')\n",
        "            time.sleep(1)\n",
        "            total_seconds -= 1\n",
        "\n",
        "        if total_seconds == 0:\n",
        "            print('\\nTime is up! 🔔')\n",
        "            # Generate beep sound\n",
        "            sample_rate = 44100\n",
        "            duration = 1  # seconds\n",
        "            frequency = 440  # Hz\n",
        "            t = np.linspace(0, duration, int(sample_rate * duration))\n",
        "            samples = 0.5 * np.sin(2 * np.pi * frequency * t)\n",
        "            sd.play(samples, sample_rate)\n",
        "\n",
        "    def stopwatch(self):\n",
        "        \"\"\"Stopwatch function\"\"\"\n",
        "        self.running = True\n",
        "        start_time = time.time()\n",
        "\n",
        "        while self.running:\n",
        "            clear_output(wait=True)\n",
        "            elapsed_time = time.time() - start_time\n",
        "            m, s = divmod(int(elapsed_time), 60)\n",
        "            h, m = divmod(m, 60)\n",
        "            print(\"Voice commands active! Say 'stop' to end stopwatch\")\n",
        "            print(f'Time elapsed: {h:02d}:{m:02d}:{s:02d}')\n",
        "            time.sleep(0.1)"
      ],
      "metadata": {
        "id": "bfkzS8vxjGg2"
      },
      "execution_count": 7,
      "outputs": []
    },
    {
      "cell_type": "code",
      "source": [
        "# First, install all required dependencies\n",
        "!apt-get update && apt-get install -y portaudio19-dev python3-pyaudio\n",
        "!pip install SpeechRecognition pyaudio sounddevice\n",
        "\n",
        "import time\n",
        "from IPython.display import clear_output, display\n",
        "import ipywidgets as widgets\n",
        "import speech_recognition as sr\n",
        "import threading\n",
        "import re\n",
        "import numpy as np\n",
        "import sounddevice as sd\n",
        "from google.colab import output\n",
        "\n",
        "# Check audio devices\n",
        "!python -m sounddevice\n",
        "\n",
        "class VoiceTimer:\n",
        "    def __init__(self):\n",
        "        self.running = False\n",
        "        self.start_time = 0\n",
        "        self.recognizer = sr.Recognizer()\n",
        "        self.is_listening = False\n",
        "\n",
        "    def listen_for_commands(self):\n",
        "        \"\"\"Continuously listen for voice commands\"\"\"\n",
        "        self.is_listening = True\n",
        "\n",
        "        # First, verify microphone access\n",
        "        try:\n",
        "            with sr.Microphone() as source:\n",
        "                print(\"Microphone initialized successfully!\")\n",
        "                print(\"\\nVoice activation ready! Try saying:\")\n",
        "                print(\"- 'start timer X minutes' or 'start timer X seconds'\")\n",
        "                print(\"- 'start stopwatch'\")\n",
        "                print(\"- 'stop'\")\n",
        "\n",
        "                while self.is_listening:\n",
        "                    try:\n",
        "                        audio = self.recognizer.listen(source, timeout=1, phrase_time_limit=5)\n",
        "                        text = self.recognizer.recognize_google(audio).lower()\n",
        "                        print(f\"Heard: {text}\")\n",
        "\n",
        "                        if \"start timer\" in text:\n",
        "                            minutes = 0\n",
        "                            seconds = 0\n",
        "                            time_values = re.findall(r'(\\d+)\\s*(minute|second)', text)\n",
        "                            for value, unit in time_values:\n",
        "                                if 'minute' in unit:\n",
        "                                    minutes = int(value)\n",
        "                                elif 'second' in unit:\n",
        "                                    seconds = int(value)\n",
        "                            if minutes > 0 or seconds > 0:\n",
        "                                threading.Thread(target=self.countdown,\n",
        "                                              args=(minutes, seconds)).start()\n",
        "\n",
        "                        elif \"start stopwatch\" in text:\n",
        "                            threading.Thread(target=self.stopwatch).start()\n",
        "\n",
        "                        elif \"stop\" in text:\n",
        "                            self.running = False\n",
        "                            print(\"Timer stopped!\")\n",
        "\n",
        "                    except sr.WaitTimeoutError:\n",
        "                        continue\n",
        "                    except sr.UnknownValueError:\n",
        "                        continue\n",
        "                    except sr.RequestError as e:\n",
        "                        print(f\"Could not request results; {e}\")\n",
        "\n",
        "        except Exception as e:\n",
        "            print(f\"Error initializing microphone: {e}\")\n",
        "            print(\"\\nTroubleshooting steps:\")\n",
        "            print(\"1. Make sure you've allowed microphone access in your browser\")\n",
        "            print(\"2. Check if your microphone is properly connected\")\n",
        "            print(\"3. Try restarting the runtime and running the code again\")\n",
        "            print(\"4. If using a virtual environment, make sure it has access to audio devices\")\n",
        "\n",
        "    def countdown(self, minutes, seconds):\n",
        "        \"\"\"Countdown timer function\"\"\"\n",
        "        self.running = True\n",
        "        total_seconds = minutes * 60 + seconds\n",
        "\n",
        "        while total_seconds > 0 and self.running:\n",
        "            clear_output(wait=True)\n",
        "            m, s = divmod(total_seconds, 60)\n",
        "            print(\"Voice commands active! Say 'stop' to end timer\")\n",
        "            print(f'Time remaining: {int(m):02d}:{int(s):02d}')\n",
        "            time.sleep(1)\n",
        "            total_seconds -= 1\n",
        "\n",
        "        if total_seconds == 0:\n",
        "            print('\\nTime is up! 🔔')\n",
        "            # Generate beep sound\n",
        "            sample_rate = 44100\n",
        "            duration = 1\n",
        "            frequency = 440\n",
        "            t = np.linspace(0, duration, int(sample_rate * duration))\n",
        "            samples = 0.5 * np.sin(2 * np.pi * frequency * t)\n",
        "            sd.play(samples, sample_rate)\n",
        "\n",
        "    def stopwatch(self):\n",
        "        \"\"\"Stopwatch function\"\"\"\n",
        "        self.running = True\n",
        "        start_time = time.time()\n",
        "\n",
        "        while self.running:\n",
        "            clear_output(wait=True)\n",
        "            elapsed_time = time.time() - start_time\n",
        "            m, s = divmod(int(elapsed_time), 60)\n",
        "            h, m = divmod(m, 60)\n",
        "            print(\"Voice commands active! Say 'stop' to end stopwatch\")\n",
        "            print(f'Time elapsed: {h:02d}:{m:02d}:{s:02d}')\n",
        "            time.sleep(0.1)\n",
        "\n",
        "# Create and start the voice-activated timer\n",
        "print(\"Initializing voice timer...\")\n",
        "timer = VoiceTimer()\n",
        "voice_thread = threading.Thread(target=timer.listen_for_commands)\n",
        "voice_thread.start()"
      ],
      "metadata": {
        "colab": {
          "base_uri": "https://localhost:8080/"
        },
        "id": "1w7QDJZtlDtW",
        "outputId": "96eb5627-e09a-443f-d0a0-d486f8c3757c"
      },
      "execution_count": 8,
      "outputs": [
        {
          "output_type": "stream",
          "name": "stdout",
          "text": [
            "\r0% [Working]\r            \rHit:1 http://security.ubuntu.com/ubuntu jammy-security InRelease\n",
            "\r0% [Connecting to archive.ubuntu.com (185.125.190.81)] [Connected to cloud.r-project.org (108.139.15\r                                                                                                    \rHit:2 https://cloud.r-project.org/bin/linux/ubuntu jammy-cran40/ InRelease\n",
            "\r0% [Waiting for headers] [Connected to r2u.stat.illinois.edu (192.17.190.167)] [Waiting for headers]\r                                                                                                    \rHit:3 https://developer.download.nvidia.com/compute/cuda/repos/ubuntu2204/x86_64  InRelease\n",
            "\r0% [Waiting for headers] [Waiting for headers] [Connected to ppa.launchpadcontent.net (185.125.190.8\r                                                                                                    \rHit:4 http://archive.ubuntu.com/ubuntu jammy InRelease\n",
            "Hit:5 https://r2u.stat.illinois.edu/ubuntu jammy InRelease\n",
            "Hit:6 http://archive.ubuntu.com/ubuntu jammy-updates InRelease\n",
            "Hit:7 http://archive.ubuntu.com/ubuntu jammy-backports InRelease\n",
            "Hit:8 https://ppa.launchpadcontent.net/deadsnakes/ppa/ubuntu jammy InRelease\n",
            "Hit:9 https://ppa.launchpadcontent.net/graphics-drivers/ppa/ubuntu jammy InRelease\n",
            "Hit:10 https://ppa.launchpadcontent.net/ubuntugis/ppa/ubuntu jammy InRelease\n",
            "Reading package lists... Done\n",
            "W: Skipping acquire of configured file 'main/source/Sources' as repository 'https://r2u.stat.illinois.edu/ubuntu jammy InRelease' does not seem to provide it (sources.list entry misspelt?)\n",
            "Reading package lists... Done\n",
            "Building dependency tree... Done\n",
            "Reading state information... Done\n",
            "portaudio19-dev is already the newest version (19.6.0-1.1).\n",
            "python3-pyaudio is already the newest version (0.2.11-1.3ubuntu1).\n",
            "0 upgraded, 0 newly installed, 0 to remove and 50 not upgraded.\n",
            "Requirement already satisfied: SpeechRecognition in /usr/local/lib/python3.10/dist-packages (3.12.0)\n",
            "Requirement already satisfied: pyaudio in /usr/lib/python3/dist-packages (0.2.11)\n",
            "Requirement already satisfied: sounddevice in /usr/local/lib/python3.10/dist-packages (0.5.1)\n",
            "Requirement already satisfied: typing-extensions in /usr/local/lib/python3.10/dist-packages (from SpeechRecognition) (4.12.2)\n",
            "Requirement already satisfied: CFFI>=1.0 in /usr/local/lib/python3.10/dist-packages (from sounddevice) (1.17.1)\n",
            "Requirement already satisfied: pycparser in /usr/local/lib/python3.10/dist-packages (from CFFI>=1.0->sounddevice) (2.22)\n",
            "\n",
            "Initializing voice timer...\n"
          ]
        }
      ]
    }
  ]
}